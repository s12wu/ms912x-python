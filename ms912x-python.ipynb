{
 "cells": [
  {
   "cell_type": "code",
   "execution_count": 1,
   "id": "bf3eac80-8773-4a66-8d5a-d7c14f5299e9",
   "metadata": {},
   "outputs": [],
   "source": [
    "import usb.core\n",
    "import usb.util\n",
    "from PIL import Image, ImageOps\n",
    "from time import sleep\n",
    "import os"
   ]
  },
  {
   "cell_type": "code",
   "execution_count": 2,
   "id": "19300beb-c492-400e-98b6-3797cd1da1e8",
   "metadata": {},
   "outputs": [],
   "source": [
    "width = 1920\n",
    "height = 1080\n",
    "hz = 60\n",
    "mode = 0x8100\n",
    "#width = 800\n",
    "#height = 600\n",
    "#hz = 60\n",
    "#mode = 0x4200\n",
    "\n",
    "pixfmt = 0x2200"
   ]
  },
  {
   "cell_type": "code",
   "execution_count": 3,
   "id": "29f66dc0-91e3-4aaa-a237-a97a3d677f47",
   "metadata": {},
   "outputs": [],
   "source": [
    "def read(address):\n",
    "    global dev\n",
    "\n",
    "    data = [0] * 8\n",
    "    data[0] = 0xb5\n",
    "    data[1] = (address & 0xFF00) >> 8\n",
    "    data[2] = address & 0xFF\n",
    "\n",
    "    # bmRequestType: 0x21 - USB_DIR_OUT | USB_TYPE_CLASS | USB_RECIP_INTERFACE\n",
    "    # bRequest:      0x09 - HID_REQ_SET_REPORT\n",
    "    dev.ctrl_transfer(0x21, 0x09, 0x0300, 0, data)\n",
    "\n",
    "\n",
    "    # bmRequestType: 0xa1 - USB_DIR_IN | USB_TYPE_CLASS | USB_RECIP_INTERFACE\n",
    "    # bRequest:      0x01 - HID_REQ_GET_REPORT\n",
    "    # we want to read 8 bytes\n",
    "    data = dev.ctrl_transfer(0xa1, 0x01, 0x0300, 0, 8)\n",
    "\n",
    "    # data now looks like this\n",
    "    # idx |  0 | 1 | 2 | 3 | 4,5,6,7\n",
    "    # val | b5 | H | L | x | follow-up bytes\n",
    "    #            ^   ^   ^\n",
    "    #           address  |\n",
    "    # high and low byte  |\n",
    "    #                    byte we wanted to read\n",
    "    \n",
    "    return data[3]"
   ]
  },
  {
   "cell_type": "code",
   "execution_count": 4,
   "id": "783328cb-0ba2-4e0e-a9bb-84ade68bc5a8",
   "metadata": {},
   "outputs": [],
   "source": [
    "def write6(address, six_bytes):\n",
    "    global dev\n",
    "    \n",
    "    data = [0] * 2\n",
    "    data[0] = 0xa6\n",
    "    data[1] = address # on a write request, there is only one address byte...?\n",
    "    data += six_bytes\n",
    "\n",
    "    # bmRequestType: 0x21 - USB_DIR_OUT | USB_TYPE_CLASS | USB_RECIP_INTERFACE\n",
    "    # bRequest:      0x09 - HID_REQ_SET_REPORT\n",
    "    dev.ctrl_transfer(0x21, 0x09, 0x0300, 0, data)\n",
    "\n"
   ]
  },
  {
   "cell_type": "code",
   "execution_count": 5,
   "id": "bbe5f30d-d800-4494-be71-a3c0673e2673",
   "metadata": {},
   "outputs": [],
   "source": [
    "def power_on():\n",
    "    write6(0x07, [1,2,0,0,0,0])\n",
    "\n",
    "def power_off():\n",
    "    write6(0x07, [0,0,0,0,0,0])\n",
    "    # After powering off and on again a new call of set_resulution seems to be necessary\n",
    "\n",
    "#detect if hdmi cable is connected\n",
    "def detect():\n",
    "    return read(0x32)\n",
    "\n",
    "\n",
    "def set_resolution():\n",
    "    global width, height, hz, mode, pixfmt\n",
    "    \n",
    "    write6(0x04, [0,0,0,0,0,0])\n",
    "    read(0x30)\n",
    "    read(0x33)\n",
    "    read(0xc620)\n",
    "    write6(0x03, [3,0,0,0,0,0])\n",
    "\n",
    "    data = [\n",
    "        (width & 0xFF00) >> 8,\n",
    "        width & 0xFF,\n",
    "        (height & 0xFF00) >> 8,\n",
    "        height & 0xFF,\n",
    "        (pixfmt & 0xFF00) >> 8,\n",
    "        pixfmt & 0xFF\n",
    "    ]\n",
    "    write6(0x01, data)\n",
    "\n",
    "    data = [\n",
    "        (mode & 0xFF00) >> 8,\n",
    "        mode & 0xFF,\n",
    "        (width & 0xFF00) >> 8,\n",
    "        width & 0xFF,\n",
    "        (height & 0xFF00) >> 8,\n",
    "        height & 0xFF\n",
    "    ]\n",
    "    write6(0x02, data)\n",
    "\n",
    "    write6(0x04, [1,0,0,0,0,0])\n",
    "    write6(0x05, [1,0,0,0,0,0])"
   ]
  },
  {
   "cell_type": "code",
   "execution_count": 6,
   "id": "189a7485-2105-4cd1-9b78-915d7ee7176e",
   "metadata": {},
   "outputs": [],
   "source": [
    "#color conversion. Yep, this is extremely slow for a full image\n",
    "\n",
    "def rgb_to_y(r, g, b):\n",
    "\tluma = (16 << 16) + 16763 * r + 32904 * g + 6391 * b\n",
    "\treturn luma >> 16\n",
    "def rgb_to_u(r, g, b):\n",
    "\tu = (128 << 16) - 9676 * r - 18996 * g + 28672 * b\n",
    "\treturn u >> 16\n",
    "def rgb_to_v(r, g, b):\n",
    "\tv = (128 << 16) + 28672 * r - 24009 * g - 4663 * b\n",
    "\treturn v >> 16\n",
    "\n",
    "def rgb_to_yuv422(rgb_buffer):\n",
    "    yuv_buffer = []\n",
    "    \n",
    "    for i in range(0, len(rgb_buffer), 2):\n",
    "        pixel1 = rgb_buffer[i]\n",
    "        pixel2 = rgb_buffer[i + 1]\n",
    "        \n",
    "        r1, g1, b1 = pixel1 #I have no idea if RGBA PNG images could be problematic right here\n",
    "        r2, g2, b2 = pixel2\n",
    "        \n",
    "        y1 = rgb_to_y(r1, g1, b1)\n",
    "        y2 = rgb_to_y(r2, g2, b2)\n",
    "        v = (rgb_to_v(r1, g1, b1) + rgb_to_v(r2, g2, b2)) // 2\n",
    "        u = (rgb_to_u(r1, g1, b1) + rgb_to_u(r2, g2, b2)) // 2\n",
    "        \n",
    "        yuv_buffer.append(u)\n",
    "        yuv_buffer.append(y1)\n",
    "        yuv_buffer.append(v)\n",
    "        yuv_buffer.append(y2)\n",
    "\n",
    "    return yuv_buffer\n",
    "\n",
    "# Opens an image specified by its file name and scales it to fit the screen. Written by ChatGPT\n",
    "def scale_and_position_input_image(fname):\n",
    "    global width, height\n",
    "    original_image = Image.open(fname)\n",
    "\n",
    "    original_image = ImageOps.exif_transpose(original_image)\n",
    "    \n",
    "    # Create a white canvas to paste the image on\n",
    "    canvas_width = width\n",
    "    canvas_height = height\n",
    "    canvas = Image.new(\"RGB\", (canvas_width, canvas_height), \"black\")\n",
    "\n",
    "    # Calculate the dimensions and position of the image on the canvas\n",
    "    img_width, img_height = original_image.size\n",
    "\n",
    "    if img_width <= canvas_width and img_height <= canvas_height:\n",
    "        # Center the image on the canvas\n",
    "        position = ((canvas_width - img_width) // 2, (canvas_height - img_height) // 2)\n",
    "        canvas.paste(original_image, position)\n",
    "    else:\n",
    "        # Scale the image to fit inside the canvas\n",
    "        aspect_ratio = img_width / img_height\n",
    "        if aspect_ratio > canvas_width / canvas_height:\n",
    "            new_width = canvas_width\n",
    "            new_height = int(canvas_width / aspect_ratio)\n",
    "        else:\n",
    "            new_height = canvas_height\n",
    "            new_width = int(canvas_height * aspect_ratio)\n",
    "\n",
    "        resized_image = original_image.resize((new_width, new_height))\n",
    "        position = ((canvas_width - new_width) // 2, (canvas_height - new_height) // 2)\n",
    "        canvas.paste(resized_image, position)\n",
    "\n",
    "    return canvas\n",
    "\n",
    "def load_image(fn):\n",
    "    global width, height\n",
    "\n",
    "    im = scale_and_position_input_image(fn)\n",
    "    im_arr = list(im.getdata())\n",
    "\n",
    "    data = [\n",
    "        0xff, 0, # header\n",
    "        0, # start x / 16\n",
    "        0, 0, # start y (High, Low)\n",
    "        width // 16,\n",
    "        (height & 0xFF00) >> 8, height & 0xFF\n",
    "    ]\n",
    "\n",
    "    # add image data in yuv422 format\n",
    "    data += rgb_to_yuv422(im_arr)\n",
    "\n",
    "    # add footer\n",
    "    data += [0xff, 0xc0, 0, 0, 0, 0, 0, 0]\n",
    "\n",
    "    return bytes(data)"
   ]
  },
  {
   "cell_type": "code",
   "execution_count": 7,
   "id": "38c889c2-c0d3-41e2-a395-81a678b9be11",
   "metadata": {},
   "outputs": [],
   "source": [
    "# find our device\n",
    "# use this udev rule on permission problems\n",
    "# SUBSYSTEM==\"usb\", ATTRS{idVendor}==\"534d\", ATTRS{idProduct}==\"6021\", MODE=\"0666\"\n",
    "\n",
    "dev = usb.core.find(idVendor=0x534d, idProduct=0x6021)\n",
    "\n",
    "if dev is None:\n",
    "    raise ValueError('Device not found')"
   ]
  },
  {
   "cell_type": "code",
   "execution_count": 8,
   "id": "d1770fce-8ed3-47ca-8ba1-cfb0cb36053c",
   "metadata": {},
   "outputs": [],
   "source": [
    "cfg = dev[0]\n",
    "intf = cfg[(3,0)]\n",
    "ep = intf[0]"
   ]
  },
  {
   "cell_type": "code",
   "execution_count": 9,
   "id": "7d5652f2-100d-41d6-b5f9-ac4fae2f1dd3",
   "metadata": {},
   "outputs": [],
   "source": [
    "# The kernel automatically binds usbhid to the control endpoint, we need to unbind it to do control transfers.\n",
    "if dev.is_kernel_driver_active(0):\n",
    "    dev.detach_kernel_driver(0)"
   ]
  },
  {
   "cell_type": "code",
   "execution_count": 10,
   "id": "8ee55aac-f762-44c7-a885-00a3a71ec737",
   "metadata": {},
   "outputs": [],
   "source": [
    "power_on()"
   ]
  },
  {
   "cell_type": "code",
   "execution_count": 11,
   "id": "ed9ab1c5-54ff-46b2-b130-1c54506b039c",
   "metadata": {},
   "outputs": [
    {
     "data": {
      "text/plain": [
       "1"
      ]
     },
     "execution_count": 11,
     "metadata": {},
     "output_type": "execute_result"
    }
   ],
   "source": [
    "detect()"
   ]
  },
  {
   "cell_type": "code",
   "execution_count": 12,
   "id": "58d2665a-def4-4f11-a543-318ddfb323ff",
   "metadata": {},
   "outputs": [],
   "source": [
    "set_resolution()"
   ]
  },
  {
   "cell_type": "code",
   "execution_count": 15,
   "id": "ff359bd5-8568-4121-ab94-76c85609c791",
   "metadata": {},
   "outputs": [],
   "source": [
    "#example how to load two images (not included) and switch beteween them a few times\n",
    "im1 = load_image(\"img.jpg\")\n",
    "im2 = load_image(\"img_2.jpg\")\n",
    "\n",
    "for i in range(5):\n",
    "    ep.write(im1)\n",
    "    sleep(1)\n",
    "    ep.write(im2)\n",
    "    sleep(1)"
   ]
  },
  {
   "cell_type": "code",
   "execution_count": 14,
   "id": "5913ee25-75f8-486a-9b91-38dd1fed34c1",
   "metadata": {},
   "outputs": [
    {
     "ename": "KeyboardInterrupt",
     "evalue": "Interrupted by user",
     "output_type": "error",
     "traceback": [
      "\u001b[0;31m---------------------------------------------------------------------------\u001b[0m",
      "\u001b[0;31mKeyboardInterrupt\u001b[0m                         Traceback (most recent call last)",
      "Cell \u001b[0;32mIn[14], line 16\u001b[0m\n\u001b[1;32m     13\u001b[0m \u001b[38;5;28;01mif\u001b[39;00m \u001b[38;5;129;01mnot\u001b[39;00m i\u001b[38;5;241m+\u001b[39m\u001b[38;5;241m1\u001b[39m \u001b[38;5;241m==\u001b[39m \u001b[38;5;28mlen\u001b[39m(imagelist):\n\u001b[1;32m     14\u001b[0m     next_image \u001b[38;5;241m=\u001b[39m load_image(\u001b[38;5;124m'\u001b[39m\u001b[38;5;124mimages/\u001b[39m\u001b[38;5;124m'\u001b[39m\u001b[38;5;241m+\u001b[39mimagelist[i\u001b[38;5;241m+\u001b[39m\u001b[38;5;241m1\u001b[39m])\n\u001b[0;32m---> 16\u001b[0m     \u001b[38;5;28;43minput\u001b[39;49m\u001b[43m(\u001b[49m\u001b[43mimagelist\u001b[49m\u001b[43m[\u001b[49m\u001b[43mi\u001b[49m\u001b[43m]\u001b[49m\u001b[43m)\u001b[49m \u001b[38;5;66;03m#wait for user\u001b[39;00m\n",
      "File \u001b[0;32m/usr/lib/python3.11/site-packages/ipykernel/kernelbase.py:1202\u001b[0m, in \u001b[0;36mKernel.raw_input\u001b[0;34m(self, prompt)\u001b[0m\n\u001b[1;32m   1200\u001b[0m     msg \u001b[38;5;241m=\u001b[39m \u001b[38;5;124m\"\u001b[39m\u001b[38;5;124mraw_input was called, but this frontend does not support input requests.\u001b[39m\u001b[38;5;124m\"\u001b[39m\n\u001b[1;32m   1201\u001b[0m     \u001b[38;5;28;01mraise\u001b[39;00m StdinNotImplementedError(msg)\n\u001b[0;32m-> 1202\u001b[0m \u001b[38;5;28;01mreturn\u001b[39;00m \u001b[38;5;28;43mself\u001b[39;49m\u001b[38;5;241;43m.\u001b[39;49m\u001b[43m_input_request\u001b[49m\u001b[43m(\u001b[49m\n\u001b[1;32m   1203\u001b[0m \u001b[43m    \u001b[49m\u001b[38;5;28;43mstr\u001b[39;49m\u001b[43m(\u001b[49m\u001b[43mprompt\u001b[49m\u001b[43m)\u001b[49m\u001b[43m,\u001b[49m\n\u001b[1;32m   1204\u001b[0m \u001b[43m    \u001b[49m\u001b[38;5;28;43mself\u001b[39;49m\u001b[38;5;241;43m.\u001b[39;49m\u001b[43m_parent_ident\u001b[49m\u001b[43m[\u001b[49m\u001b[38;5;124;43m\"\u001b[39;49m\u001b[38;5;124;43mshell\u001b[39;49m\u001b[38;5;124;43m\"\u001b[39;49m\u001b[43m]\u001b[49m\u001b[43m,\u001b[49m\n\u001b[1;32m   1205\u001b[0m \u001b[43m    \u001b[49m\u001b[38;5;28;43mself\u001b[39;49m\u001b[38;5;241;43m.\u001b[39;49m\u001b[43mget_parent\u001b[49m\u001b[43m(\u001b[49m\u001b[38;5;124;43m\"\u001b[39;49m\u001b[38;5;124;43mshell\u001b[39;49m\u001b[38;5;124;43m\"\u001b[39;49m\u001b[43m)\u001b[49m\u001b[43m,\u001b[49m\n\u001b[1;32m   1206\u001b[0m \u001b[43m    \u001b[49m\u001b[43mpassword\u001b[49m\u001b[38;5;241;43m=\u001b[39;49m\u001b[38;5;28;43;01mFalse\u001b[39;49;00m\u001b[43m,\u001b[49m\n\u001b[1;32m   1207\u001b[0m \u001b[43m\u001b[49m\u001b[43m)\u001b[49m\n",
      "File \u001b[0;32m/usr/lib/python3.11/site-packages/ipykernel/kernelbase.py:1245\u001b[0m, in \u001b[0;36mKernel._input_request\u001b[0;34m(self, prompt, ident, parent, password)\u001b[0m\n\u001b[1;32m   1242\u001b[0m \u001b[38;5;28;01mexcept\u001b[39;00m \u001b[38;5;167;01mKeyboardInterrupt\u001b[39;00m:\n\u001b[1;32m   1243\u001b[0m     \u001b[38;5;66;03m# re-raise KeyboardInterrupt, to truncate traceback\u001b[39;00m\n\u001b[1;32m   1244\u001b[0m     msg \u001b[38;5;241m=\u001b[39m \u001b[38;5;124m\"\u001b[39m\u001b[38;5;124mInterrupted by user\u001b[39m\u001b[38;5;124m\"\u001b[39m\n\u001b[0;32m-> 1245\u001b[0m     \u001b[38;5;28;01mraise\u001b[39;00m \u001b[38;5;167;01mKeyboardInterrupt\u001b[39;00m(msg) \u001b[38;5;28;01mfrom\u001b[39;00m \u001b[38;5;28;01mNone\u001b[39;00m\n\u001b[1;32m   1246\u001b[0m \u001b[38;5;28;01mexcept\u001b[39;00m \u001b[38;5;167;01mException\u001b[39;00m:\n\u001b[1;32m   1247\u001b[0m     \u001b[38;5;28mself\u001b[39m\u001b[38;5;241m.\u001b[39mlog\u001b[38;5;241m.\u001b[39mwarning(\u001b[38;5;124m\"\u001b[39m\u001b[38;5;124mInvalid Message:\u001b[39m\u001b[38;5;124m\"\u001b[39m, exc_info\u001b[38;5;241m=\u001b[39m\u001b[38;5;28;01mTrue\u001b[39;00m)\n",
      "\u001b[0;31mKeyboardInterrupt\u001b[0m: Interrupted by user"
     ]
    }
   ],
   "source": [
    "# a simple \"slideshow\" viewer that lets you display all images inside a directory (not included)\n",
    "imagelist = os.listdir('images')\n",
    "imagelist.sort()\n",
    "\n",
    "this_image = None\n",
    "next_image = load_image('images/'+imagelist[0])\n",
    "\n",
    "for i in range(len(imagelist)):\n",
    "    this_image = next_image\n",
    "    \n",
    "    ep.write(this_image)\n",
    "\n",
    "    if not i+1 == len(imagelist):\n",
    "        next_image = load_image('images/'+imagelist[i+1])\n",
    "        \n",
    "        input(imagelist[i]) #wait for user"
   ]
  },
  {
   "cell_type": "code",
   "execution_count": null,
   "id": "8917cf0e-c622-4715-9868-dfcaea6c0a91",
   "metadata": {},
   "outputs": [],
   "source": []
  }
 ],
 "metadata": {
  "kernelspec": {
   "display_name": "Python 3 (ipykernel)",
   "language": "python",
   "name": "python3"
  },
  "language_info": {
   "codemirror_mode": {
    "name": "ipython",
    "version": 3
   },
   "file_extension": ".py",
   "mimetype": "text/x-python",
   "name": "python",
   "nbconvert_exporter": "python",
   "pygments_lexer": "ipython3",
   "version": "3.11.5"
  }
 },
 "nbformat": 4,
 "nbformat_minor": 5
}
